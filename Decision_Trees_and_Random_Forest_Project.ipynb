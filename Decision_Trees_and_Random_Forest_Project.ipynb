{
  "nbformat": 4,
  "nbformat_minor": 0,
  "metadata": {
    "kernelspec": {
      "display_name": "Python 3",
      "language": "python",
      "name": "python3"
    },
    "language_info": {
      "codemirror_mode": {
        "name": "ipython",
        "version": 3
      },
      "file_extension": ".py",
      "mimetype": "text/x-python",
      "name": "python",
      "nbconvert_exporter": "python",
      "pygments_lexer": "ipython3",
      "version": "3.5.1"
    },
    "colab": {
      "name": "Decision Trees and Random Forest Project.ipynb",
      "provenance": [],
      "include_colab_link": true
    }
  },
  "cells": [
    {
      "cell_type": "markdown",
      "metadata": {
        "id": "view-in-github",
        "colab_type": "text"
      },
      "source": [
        "<a href=\"https://colab.research.google.com/github/irisnoww/data-science-playground/blob/main/Decision_Trees_and_Random_Forest_Project.ipynb\" target=\"_parent\"><img src=\"https://colab.research.google.com/assets/colab-badge.svg\" alt=\"Open In Colab\"/></a>"
      ]
    },
    {
      "cell_type": "markdown",
      "metadata": {
        "id": "p1BIazsZW7X_"
      },
      "source": [
        "\n",
        "# Random Forest Project \n",
        "\n",
        "For this project we will be exploring publicly available data from [LendingClub.com](www.lendingclub.com). Lending Club connects people who need money (borrowers) with people who have money (investors). Hopefully, as an investor you would want to invest in people who showed a profile of having a high probability of paying you back. We will try to create a model that will help predict this.\n",
        "\n",
        "\n",
        "We will use lending data from 2007-2010 and be trying to classify and predict whether or not the borrower paid back their loan in full. You can download the data from [here](https://www.lendingclub.com/info/download-data.action) or just use the csv already provided. It's recommended you use the csv provided as it has been cleaned of NA values."
      ]
    },
    {
      "cell_type": "markdown",
      "metadata": {
        "id": "1WXhNuZKW7YA"
      },
      "source": [
        "# Import Libraries\n",
        "\n",
        "**Import the usual libraries for pandas and plotting. "
      ]
    },
    {
      "cell_type": "code",
      "metadata": {
        "id": "LdyVXWgUW7YA"
      },
      "source": [
        "import pandas as pd\n",
        "import matplotlib as plt\n",
        "%matplotlib inline"
      ],
      "execution_count": null,
      "outputs": []
    },
    {
      "cell_type": "markdown",
      "metadata": {
        "id": "B35p_OFGW7YD"
      },
      "source": [
        "## Get the Data\n",
        "\n",
        "** Use pandas to read loan_data.csv as a dataframe called loans.**"
      ]
    },
    {
      "cell_type": "code",
      "metadata": {
        "id": "TG49jm4qW7YE",
        "colab": {
          "resources": {
            "http://localhost:8080/nbextensions/google.colab/files.js": {
              "data": "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",
              "ok": true,
              "headers": [
                [
                  "content-type",
                  "application/javascript"
                ]
              ],
              "status": 200,
              "status_text": ""
            }
          },
          "base_uri": "https://localhost:8080/",
          "height": 71
        },
        "outputId": "ad051c55-d6a7-4d1d-8797-a10193bbe4e4"
      },
      "source": [
        "from google.colab import files\n",
        "uploaded = files.upload()"
      ],
      "execution_count": null,
      "outputs": [
        {
          "output_type": "display_data",
          "data": {
            "text/html": [
              "\n",
              "     <input type=\"file\" id=\"files-d537f7db-85c9-4d30-9019-ce1f39b4b6ce\" name=\"files[]\" multiple disabled />\n",
              "     <output id=\"result-d537f7db-85c9-4d30-9019-ce1f39b4b6ce\">\n",
              "      Upload widget is only available when the cell has been executed in the\n",
              "      current browser session. Please rerun this cell to enable.\n",
              "      </output>\n",
              "      <script src=\"/nbextensions/google.colab/files.js\"></script> "
            ],
            "text/plain": [
              "<IPython.core.display.HTML object>"
            ]
          },
          "metadata": {
            "tags": []
          }
        },
        {
          "output_type": "stream",
          "text": [
            "Saving loan_data.csv to loan_data.csv\n"
          ],
          "name": "stdout"
        }
      ]
    },
    {
      "cell_type": "code",
      "metadata": {
        "id": "IEb2PzeKYPKP"
      },
      "source": [
        "import io\n",
        "loan_df = pd.read_csv(io.BytesIO(uploaded['loan_data.csv']),delim_whitespace=True)"
      ],
      "execution_count": null,
      "outputs": []
    },
    {
      "cell_type": "markdown",
      "metadata": {
        "id": "IoDUcgcIW7YG"
      },
      "source": [
        "** Check out the info(), head(), and describe() methods on loans.**"
      ]
    },
    {
      "cell_type": "code",
      "metadata": {
        "id": "FpAg4bMaW7YH",
        "colab": {
          "base_uri": "https://localhost:8080/",
          "height": 374
        },
        "outputId": "830c783a-5a17-4f90-a043-dd93ff491fe3"
      },
      "source": [
        "loan_df.info()"
      ],
      "execution_count": null,
      "outputs": [
        {
          "output_type": "stream",
          "text": [
            "<class 'pandas.core.frame.DataFrame'>\n",
            "RangeIndex: 9578 entries, 0 to 9577\n",
            "Data columns (total 14 columns):\n",
            " #   Column             Non-Null Count  Dtype  \n",
            "---  ------             --------------  -----  \n",
            " 0   credit.policy      9578 non-null   int64  \n",
            " 1   purpose            9578 non-null   object \n",
            " 2   int.rate           9578 non-null   float64\n",
            " 3   installment        9578 non-null   float64\n",
            " 4   log.annual.inc     9578 non-null   float64\n",
            " 5   dti                9578 non-null   float64\n",
            " 6   fico               9578 non-null   int64  \n",
            " 7   days.with.cr.line  9578 non-null   float64\n",
            " 8   revol.bal          9578 non-null   int64  \n",
            " 9   revol.util         9578 non-null   float64\n",
            " 10  inq.last.6mths     9578 non-null   int64  \n",
            " 11  delinq.2yrs        9578 non-null   int64  \n",
            " 12  pub.rec            9578 non-null   int64  \n",
            " 13  not.fully.paid     9578 non-null   int64  \n",
            "dtypes: float64(6), int64(7), object(1)\n",
            "memory usage: 1.0+ MB\n"
          ],
          "name": "stdout"
        }
      ]
    },
    {
      "cell_type": "code",
      "metadata": {
        "id": "Aa11rriOW7YJ",
        "outputId": "3fff45f4-2299-455d-e7b9-e632f28c8345"
      },
      "source": [
        ""
      ],
      "execution_count": null,
      "outputs": [
        {
          "output_type": "execute_result",
          "data": {
            "text/html": [
              "<div>\n",
              "<table border=\"1\" class=\"dataframe\">\n",
              "  <thead>\n",
              "    <tr style=\"text-align: right;\">\n",
              "      <th></th>\n",
              "      <th>credit.policy</th>\n",
              "      <th>int.rate</th>\n",
              "      <th>installment</th>\n",
              "      <th>log.annual.inc</th>\n",
              "      <th>dti</th>\n",
              "      <th>fico</th>\n",
              "      <th>days.with.cr.line</th>\n",
              "      <th>revol.bal</th>\n",
              "      <th>revol.util</th>\n",
              "      <th>inq.last.6mths</th>\n",
              "      <th>delinq.2yrs</th>\n",
              "      <th>pub.rec</th>\n",
              "      <th>not.fully.paid</th>\n",
              "    </tr>\n",
              "  </thead>\n",
              "  <tbody>\n",
              "    <tr>\n",
              "      <th>count</th>\n",
              "      <td>9578.000000</td>\n",
              "      <td>9578.000000</td>\n",
              "      <td>9578.000000</td>\n",
              "      <td>9578.000000</td>\n",
              "      <td>9578.000000</td>\n",
              "      <td>9578.000000</td>\n",
              "      <td>9578.000000</td>\n",
              "      <td>9.578000e+03</td>\n",
              "      <td>9578.000000</td>\n",
              "      <td>9578.000000</td>\n",
              "      <td>9578.000000</td>\n",
              "      <td>9578.000000</td>\n",
              "      <td>9578.000000</td>\n",
              "    </tr>\n",
              "    <tr>\n",
              "      <th>mean</th>\n",
              "      <td>0.804970</td>\n",
              "      <td>0.122640</td>\n",
              "      <td>319.089413</td>\n",
              "      <td>10.932117</td>\n",
              "      <td>12.606679</td>\n",
              "      <td>710.846314</td>\n",
              "      <td>4560.767197</td>\n",
              "      <td>1.691396e+04</td>\n",
              "      <td>46.799236</td>\n",
              "      <td>1.577469</td>\n",
              "      <td>0.163708</td>\n",
              "      <td>0.062122</td>\n",
              "      <td>0.160054</td>\n",
              "    </tr>\n",
              "    <tr>\n",
              "      <th>std</th>\n",
              "      <td>0.396245</td>\n",
              "      <td>0.026847</td>\n",
              "      <td>207.071301</td>\n",
              "      <td>0.614813</td>\n",
              "      <td>6.883970</td>\n",
              "      <td>37.970537</td>\n",
              "      <td>2496.930377</td>\n",
              "      <td>3.375619e+04</td>\n",
              "      <td>29.014417</td>\n",
              "      <td>2.200245</td>\n",
              "      <td>0.546215</td>\n",
              "      <td>0.262126</td>\n",
              "      <td>0.366676</td>\n",
              "    </tr>\n",
              "    <tr>\n",
              "      <th>min</th>\n",
              "      <td>0.000000</td>\n",
              "      <td>0.060000</td>\n",
              "      <td>15.670000</td>\n",
              "      <td>7.547502</td>\n",
              "      <td>0.000000</td>\n",
              "      <td>612.000000</td>\n",
              "      <td>178.958333</td>\n",
              "      <td>0.000000e+00</td>\n",
              "      <td>0.000000</td>\n",
              "      <td>0.000000</td>\n",
              "      <td>0.000000</td>\n",
              "      <td>0.000000</td>\n",
              "      <td>0.000000</td>\n",
              "    </tr>\n",
              "    <tr>\n",
              "      <th>25%</th>\n",
              "      <td>1.000000</td>\n",
              "      <td>0.103900</td>\n",
              "      <td>163.770000</td>\n",
              "      <td>10.558414</td>\n",
              "      <td>7.212500</td>\n",
              "      <td>682.000000</td>\n",
              "      <td>2820.000000</td>\n",
              "      <td>3.187000e+03</td>\n",
              "      <td>22.600000</td>\n",
              "      <td>0.000000</td>\n",
              "      <td>0.000000</td>\n",
              "      <td>0.000000</td>\n",
              "      <td>0.000000</td>\n",
              "    </tr>\n",
              "    <tr>\n",
              "      <th>50%</th>\n",
              "      <td>1.000000</td>\n",
              "      <td>0.122100</td>\n",
              "      <td>268.950000</td>\n",
              "      <td>10.928884</td>\n",
              "      <td>12.665000</td>\n",
              "      <td>707.000000</td>\n",
              "      <td>4139.958333</td>\n",
              "      <td>8.596000e+03</td>\n",
              "      <td>46.300000</td>\n",
              "      <td>1.000000</td>\n",
              "      <td>0.000000</td>\n",
              "      <td>0.000000</td>\n",
              "      <td>0.000000</td>\n",
              "    </tr>\n",
              "    <tr>\n",
              "      <th>75%</th>\n",
              "      <td>1.000000</td>\n",
              "      <td>0.140700</td>\n",
              "      <td>432.762500</td>\n",
              "      <td>11.291293</td>\n",
              "      <td>17.950000</td>\n",
              "      <td>737.000000</td>\n",
              "      <td>5730.000000</td>\n",
              "      <td>1.824950e+04</td>\n",
              "      <td>70.900000</td>\n",
              "      <td>2.000000</td>\n",
              "      <td>0.000000</td>\n",
              "      <td>0.000000</td>\n",
              "      <td>0.000000</td>\n",
              "    </tr>\n",
              "    <tr>\n",
              "      <th>max</th>\n",
              "      <td>1.000000</td>\n",
              "      <td>0.216400</td>\n",
              "      <td>940.140000</td>\n",
              "      <td>14.528354</td>\n",
              "      <td>29.960000</td>\n",
              "      <td>827.000000</td>\n",
              "      <td>17639.958330</td>\n",
              "      <td>1.207359e+06</td>\n",
              "      <td>119.000000</td>\n",
              "      <td>33.000000</td>\n",
              "      <td>13.000000</td>\n",
              "      <td>5.000000</td>\n",
              "      <td>1.000000</td>\n",
              "    </tr>\n",
              "  </tbody>\n",
              "</table>\n",
              "</div>"
            ],
            "text/plain": [
              "       credit.policy     int.rate  installment  log.annual.inc          dti  \\\n",
              "count    9578.000000  9578.000000  9578.000000     9578.000000  9578.000000   \n",
              "mean        0.804970     0.122640   319.089413       10.932117    12.606679   \n",
              "std         0.396245     0.026847   207.071301        0.614813     6.883970   \n",
              "min         0.000000     0.060000    15.670000        7.547502     0.000000   \n",
              "25%         1.000000     0.103900   163.770000       10.558414     7.212500   \n",
              "50%         1.000000     0.122100   268.950000       10.928884    12.665000   \n",
              "75%         1.000000     0.140700   432.762500       11.291293    17.950000   \n",
              "max         1.000000     0.216400   940.140000       14.528354    29.960000   \n",
              "\n",
              "              fico  days.with.cr.line     revol.bal   revol.util  \\\n",
              "count  9578.000000        9578.000000  9.578000e+03  9578.000000   \n",
              "mean    710.846314        4560.767197  1.691396e+04    46.799236   \n",
              "std      37.970537        2496.930377  3.375619e+04    29.014417   \n",
              "min     612.000000         178.958333  0.000000e+00     0.000000   \n",
              "25%     682.000000        2820.000000  3.187000e+03    22.600000   \n",
              "50%     707.000000        4139.958333  8.596000e+03    46.300000   \n",
              "75%     737.000000        5730.000000  1.824950e+04    70.900000   \n",
              "max     827.000000       17639.958330  1.207359e+06   119.000000   \n",
              "\n",
              "       inq.last.6mths  delinq.2yrs      pub.rec  not.fully.paid  \n",
              "count     9578.000000  9578.000000  9578.000000     9578.000000  \n",
              "mean         1.577469     0.163708     0.062122        0.160054  \n",
              "std          2.200245     0.546215     0.262126        0.366676  \n",
              "min          0.000000     0.000000     0.000000        0.000000  \n",
              "25%          0.000000     0.000000     0.000000        0.000000  \n",
              "50%          1.000000     0.000000     0.000000        0.000000  \n",
              "75%          2.000000     0.000000     0.000000        0.000000  \n",
              "max         33.000000    13.000000     5.000000        1.000000  "
            ]
          },
          "metadata": {
            "tags": []
          },
          "execution_count": 5
        }
      ]
    },
    {
      "cell_type": "code",
      "metadata": {
        "id": "NHoCH6XhW7YM",
        "colab": {
          "base_uri": "https://localhost:8080/",
          "height": 224
        },
        "outputId": "b961487c-d504-42da-cec6-df589632c967"
      },
      "source": [
        "load_df.head()"
      ],
      "execution_count": null,
      "outputs": [
        {
          "output_type": "execute_result",
          "data": {
            "text/html": [
              "<div>\n",
              "<style scoped>\n",
              "    .dataframe tbody tr th:only-of-type {\n",
              "        vertical-align: middle;\n",
              "    }\n",
              "\n",
              "    .dataframe tbody tr th {\n",
              "        vertical-align: top;\n",
              "    }\n",
              "\n",
              "    .dataframe thead th {\n",
              "        text-align: right;\n",
              "    }\n",
              "</style>\n",
              "<table border=\"1\" class=\"dataframe\">\n",
              "  <thead>\n",
              "    <tr style=\"text-align: right;\">\n",
              "      <th></th>\n",
              "      <th>credit.policy</th>\n",
              "      <th>purpose</th>\n",
              "      <th>int.rate</th>\n",
              "      <th>installment</th>\n",
              "      <th>log.annual.inc</th>\n",
              "      <th>dti</th>\n",
              "      <th>fico</th>\n",
              "      <th>days.with.cr.line</th>\n",
              "      <th>revol.bal</th>\n",
              "      <th>revol.util</th>\n",
              "      <th>inq.last.6mths</th>\n",
              "      <th>delinq.2yrs</th>\n",
              "      <th>pub.rec</th>\n",
              "      <th>not.fully.paid</th>\n",
              "    </tr>\n",
              "  </thead>\n",
              "  <tbody>\n",
              "    <tr>\n",
              "      <th>0</th>\n",
              "      <td>1</td>\n",
              "      <td>debt_consolidation</td>\n",
              "      <td>0.1189</td>\n",
              "      <td>829.10</td>\n",
              "      <td>11.350407</td>\n",
              "      <td>19.48</td>\n",
              "      <td>737</td>\n",
              "      <td>5639.958333</td>\n",
              "      <td>28854</td>\n",
              "      <td>52.1</td>\n",
              "      <td>0</td>\n",
              "      <td>0</td>\n",
              "      <td>0</td>\n",
              "      <td>0</td>\n",
              "    </tr>\n",
              "    <tr>\n",
              "      <th>1</th>\n",
              "      <td>1</td>\n",
              "      <td>credit_card</td>\n",
              "      <td>0.1071</td>\n",
              "      <td>228.22</td>\n",
              "      <td>11.082143</td>\n",
              "      <td>14.29</td>\n",
              "      <td>707</td>\n",
              "      <td>2760.000000</td>\n",
              "      <td>33623</td>\n",
              "      <td>76.7</td>\n",
              "      <td>0</td>\n",
              "      <td>0</td>\n",
              "      <td>0</td>\n",
              "      <td>0</td>\n",
              "    </tr>\n",
              "    <tr>\n",
              "      <th>2</th>\n",
              "      <td>1</td>\n",
              "      <td>debt_consolidation</td>\n",
              "      <td>0.1357</td>\n",
              "      <td>366.86</td>\n",
              "      <td>10.373491</td>\n",
              "      <td>11.63</td>\n",
              "      <td>682</td>\n",
              "      <td>4710.000000</td>\n",
              "      <td>3511</td>\n",
              "      <td>25.6</td>\n",
              "      <td>1</td>\n",
              "      <td>0</td>\n",
              "      <td>0</td>\n",
              "      <td>0</td>\n",
              "    </tr>\n",
              "    <tr>\n",
              "      <th>3</th>\n",
              "      <td>1</td>\n",
              "      <td>debt_consolidation</td>\n",
              "      <td>0.1008</td>\n",
              "      <td>162.34</td>\n",
              "      <td>11.350407</td>\n",
              "      <td>8.10</td>\n",
              "      <td>712</td>\n",
              "      <td>2699.958333</td>\n",
              "      <td>33667</td>\n",
              "      <td>73.2</td>\n",
              "      <td>1</td>\n",
              "      <td>0</td>\n",
              "      <td>0</td>\n",
              "      <td>0</td>\n",
              "    </tr>\n",
              "    <tr>\n",
              "      <th>4</th>\n",
              "      <td>1</td>\n",
              "      <td>credit_card</td>\n",
              "      <td>0.1426</td>\n",
              "      <td>102.92</td>\n",
              "      <td>11.299732</td>\n",
              "      <td>14.97</td>\n",
              "      <td>667</td>\n",
              "      <td>4066.000000</td>\n",
              "      <td>4740</td>\n",
              "      <td>39.5</td>\n",
              "      <td>0</td>\n",
              "      <td>1</td>\n",
              "      <td>0</td>\n",
              "      <td>0</td>\n",
              "    </tr>\n",
              "  </tbody>\n",
              "</table>\n",
              "</div>"
            ],
            "text/plain": [
              "   credit.policy             purpose  ...  pub.rec  not.fully.paid\n",
              "0              1  debt_consolidation  ...        0               0\n",
              "1              1         credit_card  ...        0               0\n",
              "2              1  debt_consolidation  ...        0               0\n",
              "3              1  debt_consolidation  ...        0               0\n",
              "4              1         credit_card  ...        0               0\n",
              "\n",
              "[5 rows x 14 columns]"
            ]
          },
          "metadata": {
            "tags": []
          },
          "execution_count": 11
        }
      ]
    },
    {
      "cell_type": "markdown",
      "metadata": {
        "id": "6QEG0KUHW7YO"
      },
      "source": [
        "# Exploratory Data Analysis\n",
        "\n",
        "\n",
        "** Create a histogram of two FICO distributions on top of each other, one for each credit.policy outcome.**\n"
      ]
    },
    {
      "cell_type": "code",
      "metadata": {
        "id": "rxKTpB8oaneP"
      },
      "source": [
        "import numpy\n",
        "import matplotlib.pyplot as plt"
      ],
      "execution_count": null,
      "outputs": []
    },
    {
      "cell_type": "code",
      "metadata": {
        "id": "FxNjc0TaaNMX"
      },
      "source": [
        "fico_1 = load_df['fico'][load_df['credit.policy']==1]\n",
        "fico_2 = load_df['fico'][load_df['credit.policy']==0]"
      ],
      "execution_count": null,
      "outputs": []
    },
    {
      "cell_type": "code",
      "metadata": {
        "id": "ot6D0KpRW7YO",
        "colab": {
          "base_uri": "https://localhost:8080/",
          "height": 265
        },
        "outputId": "ce5af3af-cda8-4ef9-e657-e7365a148eb2"
      },
      "source": [
        "bins = numpy.linspace(500, 1000, 100)\n",
        "x = plt.hist(fico_1, bins, alpha=0.5, label='Credit.Policy = 1')\n",
        "y = plt.hist(fico_2, bins, alpha=0.5, label='Credit.Policy = 0')\n",
        "plt.legend(loc='upper right')\n",
        "plt.show()"
      ],
      "execution_count": null,
      "outputs": [
        {
          "output_type": "display_data",
          "data": {
            "image/png": "[encoded data removed]",
            "text/plain": [
              "<Figure size 432x288 with 1 Axes>"
            ]
          },
          "metadata": {
            "tags": [],
            "needs_background": "light"
          }
        }
      ]
    },
    {
      "cell_type": "code",
      "metadata": {
        "id": "2u9MsKmJbnhZ",
        "colab": {
          "base_uri": "https://localhost:8080/",
          "height": 384
        },
        "outputId": "1af9ac84-9f05-45a1-d1e1-7fb36e71c949"
      },
      "source": [
        "# bins = numpy.linspace(600, 900, 200)\n",
        "plt.hist([fico_1,fico_2],alpha = 0.8, label=['fico_1','fico_2'])"
      ],
      "execution_count": null,
      "outputs": [
        {
          "output_type": "execute_result",
          "data": {
            "text/plain": [
              "(array([[   2.,    0.,  916., 1984., 1447., 1195., 1231.,  546.,  302.,\n",
              "           87.],\n",
              "        [  10.,  350.,  458.,  501.,  288.,  197.,   38.,   12.,   11.,\n",
              "            3.]]),\n",
              " array([612. , 633.5, 655. , 676.5, 698. , 719.5, 741. , 762.5, 784. ,\n",
              "        805.5, 827. ]),\n",
              " <a list of 2 Lists of Patches objects>)"
            ]
          },
          "metadata": {
            "tags": []
          },
          "execution_count": 25
        },
        {
          "output_type": "display_data",
          "data": {
            "image/png": "[encoded data removed]",
            "text/plain": [
              "<Figure size 432x288 with 1 Axes>"
            ]
          },
          "metadata": {
            "tags": [],
            "needs_background": "light"
          }
        }
      ]
    },
    {
      "cell_type": "markdown",
      "metadata": {
        "id": "92ftYHzZW7YR"
      },
      "source": [
        "** Create a similar figure, except this time select by the not.fully.paid column.**"
      ]
    },
    {
      "cell_type": "code",
      "metadata": {
        "id": "2wIWA5x8W7YR"
      },
      "source": [
        "not_fully_paid_1 = load_df['fico'][load_df['not.fully.paid']==1]\n",
        "not_fully_paid_2 = load_df['fico'][load_df['not.fully.paid']==0]"
      ],
      "execution_count": null,
      "outputs": []
    },
    {
      "cell_type": "code",
      "metadata": {
        "id": "h5j27WmdevX9",
        "colab": {
          "base_uri": "https://localhost:8080/",
          "height": 384
        },
        "outputId": "88384409-5397-4b0f-db71-518904b198e4"
      },
      "source": [
        "plt.hist([not_fully_paid_1,not_fully_paid_2],alpha = 0.5, label=['not_fully_paid_1','not_fully_paid_2'])"
      ],
      "execution_count": null,
      "outputs": [
        {
          "output_type": "execute_result",
          "data": {
            "text/plain": [
              "(array([[   6.,  106.,  316.,  446.,  285.,  193.,  118.,   39.,   21.,\n",
              "            3.],\n",
              "        [   6.,  244., 1058., 2039., 1450., 1199., 1151.,  519.,  292.,\n",
              "           87.]]),\n",
              " array([612. , 633.5, 655. , 676.5, 698. , 719.5, 741. , 762.5, 784. ,\n",
              "        805.5, 827. ]),\n",
              " <a list of 2 Lists of Patches objects>)"
            ]
          },
          "metadata": {
            "tags": []
          },
          "execution_count": 27
        },
        {
          "output_type": "display_data",
          "data": {
            "image/png": "[encoded data removed]",
            "text/plain": [
              "<Figure size 432x288 with 1 Axes>"
            ]
          },
          "metadata": {
            "tags": [],
            "needs_background": "light"
          }
        }
      ]
    },
    {
      "cell_type": "markdown",
      "metadata": {
        "id": "tYWE7L-kW7YT"
      },
      "source": [
        "** Create a countplot using seaborn showing the counts of loans by purpose, with the color hue defined by not.fully.paid. **"
      ]
    },
    {
      "cell_type": "code",
      "metadata": {
        "id": "TNwozPolW7YU",
        "colab": {
          "base_uri": "https://localhost:8080/",
          "height": 71
        },
        "outputId": "ded332d0-91cc-47da-a30e-8b2be9d1c114"
      },
      "source": [
        "import seaborn as sns"
      ],
      "execution_count": null,
      "outputs": [
        {
          "output_type": "stream",
          "text": [
            "/usr/local/lib/python3.6/dist-packages/statsmodels/tools/_testing.py:19: FutureWarning: pandas.util.testing is deprecated. Use the functions in the public API at pandas.testing instead.\n",
            "  import pandas.util.testing as tm\n"
          ],
          "name": "stderr"
        }
      ]
    },
    {
      "cell_type": "code",
      "metadata": {
        "id": "MgpxjqKffOSv",
        "colab": {
          "base_uri": "https://localhost:8080/",
          "height": 297
        },
        "outputId": "df1a6f56-91e6-418a-93c1-d55800aff6ee"
      },
      "source": [
        "sns.countplot(data = load_df, x=load_df['purpose'],hue_order=load_df['not.fully.paid'])"
      ],
      "execution_count": null,
      "outputs": [
        {
          "output_type": "execute_result",
          "data": {
            "text/plain": [
              "<matplotlib.axes._subplots.AxesSubplot at 0x7f064c77f860>"
            ]
          },
          "metadata": {
            "tags": []
          },
          "execution_count": 29
        },
        {
          "output_type": "display_data",
          "data": {
            "image/png": "[encoded data removed]",
            "text/plain": [
              "<Figure size 432x288 with 1 Axes>"
            ]
          },
          "metadata": {
            "tags": [],
            "needs_background": "light"
          }
        }
      ]
    },
    {
      "cell_type": "markdown",
      "metadata": {
        "id": "dGOTY5rnW7YW"
      },
      "source": [
        "** Let's see the trend between FICO score and interest rate. Recreate the following jointplot.**"
      ]
    },
    {
      "cell_type": "code",
      "metadata": {
        "id": "sBgNKzjRW7YW",
        "colab": {
          "base_uri": "https://localhost:8080/",
          "height": 458
        },
        "outputId": "fe0de460-a18f-4818-e59c-c3bf5ee6890d"
      },
      "source": [
        "sns.jointplot(load_df['fico'],load_df['int.rate'], data=load_df, kind='scatter')"
      ],
      "execution_count": null,
      "outputs": [
        {
          "output_type": "execute_result",
          "data": {
            "text/plain": [
              "<seaborn.axisgrid.JointGrid at 0x7f064c8b88d0>"
            ]
          },
          "metadata": {
            "tags": []
          },
          "execution_count": 31
        },
        {
          "output_type": "display_data",
          "data": {
            "image/png": "[encoded data removed]",
            "text/plain": [
              "<Figure size 432x432 with 3 Axes>"
            ]
          },
          "metadata": {
            "tags": [],
            "needs_background": "light"
          }
        }
      ]
    },
    {
      "cell_type": "code",
      "metadata": {
        "id": "vhgRcmG3W7YZ",
        "outputId": "e9d0e3b3-f7a0-4097-f6e5-e5337f0fd39f"
      },
      "source": [
        "sns.lmplot(load_df['fico'],load_df['int.rate'],data=load_df, hue=load_df['not.fully.paid'])"
      ],
      "execution_count": null,
      "outputs": [
        {
          "output_type": "execute_result",
          "data": {
            "text/plain": [
              "<seaborn.axisgrid.FacetGrid at 0x11ac4cb70>"
            ]
          },
          "metadata": {
            "tags": []
          },
          "execution_count": 11
        },
        {
          "output_type": "display_data",
          "data": {
            "text/plain": [
              "<matplotlib.figure.Figure at 0x11ad7e048>"
            ]
          },
          "metadata": {
            "tags": []
          }
        },
        {
          "output_type": "display_data",
          "data": {
            "image/png": "[encoded data removed]",
            "text/plain": [
              "<matplotlib.figure.Figure at 0x11ac1b6d8>"
            ]
          },
          "metadata": {
            "tags": []
          }
        }
      ]
    },
    {
      "cell_type": "markdown",
      "metadata": {
        "id": "qBE836fhW7Yb"
      },
      "source": [
        "# Setting up the Data\n",
        "\n",
        "**Check loans.info() again.**"
      ]
    },
    {
      "cell_type": "code",
      "metadata": {
        "id": "SFpVMHUGW7Yc",
        "colab": {
          "base_uri": "https://localhost:8080/",
          "height": 374
        },
        "outputId": "9b2ffbbc-0e9e-4b22-ead3-e4484529b184"
      },
      "source": [
        "load_df.info()"
      ],
      "execution_count": null,
      "outputs": [
        {
          "output_type": "stream",
          "text": [
            "<class 'pandas.core.frame.DataFrame'>\n",
            "RangeIndex: 9578 entries, 0 to 9577\n",
            "Data columns (total 14 columns):\n",
            " #   Column             Non-Null Count  Dtype  \n",
            "---  ------             --------------  -----  \n",
            " 0   credit.policy      9578 non-null   int64  \n",
            " 1   purpose            9578 non-null   object \n",
            " 2   int.rate           9578 non-null   float64\n",
            " 3   installment        9578 non-null   float64\n",
            " 4   log.annual.inc     9578 non-null   float64\n",
            " 5   dti                9578 non-null   float64\n",
            " 6   fico               9578 non-null   int64  \n",
            " 7   days.with.cr.line  9578 non-null   float64\n",
            " 8   revol.bal          9578 non-null   int64  \n",
            " 9   revol.util         9578 non-null   float64\n",
            " 10  inq.last.6mths     9578 non-null   int64  \n",
            " 11  delinq.2yrs        9578 non-null   int64  \n",
            " 12  pub.rec            9578 non-null   int64  \n",
            " 13  not.fully.paid     9578 non-null   int64  \n",
            "dtypes: float64(6), int64(7), object(1)\n",
            "memory usage: 1.0+ MB\n"
          ],
          "name": "stdout"
        }
      ]
    },
    {
      "cell_type": "markdown",
      "metadata": {
        "id": "Csuda8P4W7Ye"
      },
      "source": [
        "## Categorical Features\n",
        "\n",
        "Notice that the **purpose** column as categorical\n",
        "\n",
        "That means we need to transform them using dummy variables so sklearn will be able to understand them. Let's do this in one clean step using pd.get_dummies.\n",
        "\n",
        "Let's show you a way of dealing with these columns that can be expanded to multiple categorical features if necessary.\n",
        "\n",
        "**Create a list of 1 element containing the string 'purpose'. Call this list cat_feats.**"
      ]
    },
    {
      "cell_type": "code",
      "metadata": {
        "id": "P--z9BumW7Ye"
      },
      "source": [
        "cat_feats = ['purpose']"
      ],
      "execution_count": null,
      "outputs": []
    },
    {
      "cell_type": "markdown",
      "metadata": {
        "id": "zz1MLLh7W7Yg"
      },
      "source": [
        "**Now use pd.get_dummies(loans,columns=cat_feats,drop_first=True) to create a fixed larger dataframe that has new feature columns with dummy variables. Set this dataframe as final_data.**"
      ]
    },
    {
      "cell_type": "code",
      "metadata": {
        "id": "V6OPNUB9W7Yg"
      },
      "source": [
        "final_data = pd.get_dummies(load_df, columns= cat_feats,drop_first=True)"
      ],
      "execution_count": null,
      "outputs": []
    },
    {
      "cell_type": "code",
      "metadata": {
        "id": "SUrka45oiuek",
        "colab": {
          "base_uri": "https://localhost:8080/",
          "height": 439
        },
        "outputId": "3820d5be-9e1e-4cd8-9619-ac530e7fede3"
      },
      "source": [
        "final_data"
      ],
      "execution_count": null,
      "outputs": [
        {
          "output_type": "execute_result",
          "data": {
            "text/html": [
              "<div>\n",
              "<style scoped>\n",
              "    .dataframe tbody tr th:only-of-type {\n",
              "        vertical-align: middle;\n",
              "    }\n",
              "\n",
              "    .dataframe tbody tr th {\n",
              "        vertical-align: top;\n",
              "    }\n",
              "\n",
              "    .dataframe thead th {\n",
              "        text-align: right;\n",
              "    }\n",
              "</style>\n",
              "<table border=\"1\" class=\"dataframe\">\n",
              "  <thead>\n",
              "    <tr style=\"text-align: right;\">\n",
              "      <th></th>\n",
              "      <th>credit.policy</th>\n",
              "      <th>int.rate</th>\n",
              "      <th>installment</th>\n",
              "      <th>log.annual.inc</th>\n",
              "      <th>dti</th>\n",
              "      <th>fico</th>\n",
              "      <th>days.with.cr.line</th>\n",
              "      <th>revol.bal</th>\n",
              "      <th>revol.util</th>\n",
              "      <th>inq.last.6mths</th>\n",
              "      <th>delinq.2yrs</th>\n",
              "      <th>pub.rec</th>\n",
              "      <th>not.fully.paid</th>\n",
              "      <th>purpose_credit_card</th>\n",
              "      <th>purpose_debt_consolidation</th>\n",
              "      <th>purpose_educational</th>\n",
              "      <th>purpose_home_improvement</th>\n",
              "      <th>purpose_major_purchase</th>\n",
              "      <th>purpose_small_business</th>\n",
              "    </tr>\n",
              "  </thead>\n",
              "  <tbody>\n",
              "    <tr>\n",
              "      <th>0</th>\n",
              "      <td>1</td>\n",
              "      <td>0.1189</td>\n",
              "      <td>829.10</td>\n",
              "      <td>11.350407</td>\n",
              "      <td>19.48</td>\n",
              "      <td>737</td>\n",
              "      <td>5639.958333</td>\n",
              "      <td>28854</td>\n",
              "      <td>52.1</td>\n",
              "      <td>0</td>\n",
              "      <td>0</td>\n",
              "      <td>0</td>\n",
              "      <td>0</td>\n",
              "      <td>0</td>\n",
              "      <td>1</td>\n",
              "      <td>0</td>\n",
              "      <td>0</td>\n",
              "      <td>0</td>\n",
              "      <td>0</td>\n",
              "    </tr>\n",
              "    <tr>\n",
              "      <th>1</th>\n",
              "      <td>1</td>\n",
              "      <td>0.1071</td>\n",
              "      <td>228.22</td>\n",
              "      <td>11.082143</td>\n",
              "      <td>14.29</td>\n",
              "      <td>707</td>\n",
              "      <td>2760.000000</td>\n",
              "      <td>33623</td>\n",
              "      <td>76.7</td>\n",
              "      <td>0</td>\n",
              "      <td>0</td>\n",
              "      <td>0</td>\n",
              "      <td>0</td>\n",
              "      <td>1</td>\n",
              "      <td>0</td>\n",
              "      <td>0</td>\n",
              "      <td>0</td>\n",
              "      <td>0</td>\n",
              "      <td>0</td>\n",
              "    </tr>\n",
              "    <tr>\n",
              "      <th>2</th>\n",
              "      <td>1</td>\n",
              "      <td>0.1357</td>\n",
              "      <td>366.86</td>\n",
              "      <td>10.373491</td>\n",
              "      <td>11.63</td>\n",
              "      <td>682</td>\n",
              "      <td>4710.000000</td>\n",
              "      <td>3511</td>\n",
              "      <td>25.6</td>\n",
              "      <td>1</td>\n",
              "      <td>0</td>\n",
              "      <td>0</td>\n",
              "      <td>0</td>\n",
              "      <td>0</td>\n",
              "      <td>1</td>\n",
              "      <td>0</td>\n",
              "      <td>0</td>\n",
              "      <td>0</td>\n",
              "      <td>0</td>\n",
              "    </tr>\n",
              "    <tr>\n",
              "      <th>3</th>\n",
              "      <td>1</td>\n",
              "      <td>0.1008</td>\n",
              "      <td>162.34</td>\n",
              "      <td>11.350407</td>\n",
              "      <td>8.10</td>\n",
              "      <td>712</td>\n",
              "      <td>2699.958333</td>\n",
              "      <td>33667</td>\n",
              "      <td>73.2</td>\n",
              "      <td>1</td>\n",
              "      <td>0</td>\n",
              "      <td>0</td>\n",
              "      <td>0</td>\n",
              "      <td>0</td>\n",
              "      <td>1</td>\n",
              "      <td>0</td>\n",
              "      <td>0</td>\n",
              "      <td>0</td>\n",
              "      <td>0</td>\n",
              "    </tr>\n",
              "    <tr>\n",
              "      <th>4</th>\n",
              "      <td>1</td>\n",
              "      <td>0.1426</td>\n",
              "      <td>102.92</td>\n",
              "      <td>11.299732</td>\n",
              "      <td>14.97</td>\n",
              "      <td>667</td>\n",
              "      <td>4066.000000</td>\n",
              "      <td>4740</td>\n",
              "      <td>39.5</td>\n",
              "      <td>0</td>\n",
              "      <td>1</td>\n",
              "      <td>0</td>\n",
              "      <td>0</td>\n",
              "      <td>1</td>\n",
              "      <td>0</td>\n",
              "      <td>0</td>\n",
              "      <td>0</td>\n",
              "      <td>0</td>\n",
              "      <td>0</td>\n",
              "    </tr>\n",
              "    <tr>\n",
              "      <th>...</th>\n",
              "      <td>...</td>\n",
              "      <td>...</td>\n",
              "      <td>...</td>\n",
              "      <td>...</td>\n",
              "      <td>...</td>\n",
              "      <td>...</td>\n",
              "      <td>...</td>\n",
              "      <td>...</td>\n",
              "      <td>...</td>\n",
              "      <td>...</td>\n",
              "      <td>...</td>\n",
              "      <td>...</td>\n",
              "      <td>...</td>\n",
              "      <td>...</td>\n",
              "      <td>...</td>\n",
              "      <td>...</td>\n",
              "      <td>...</td>\n",
              "      <td>...</td>\n",
              "      <td>...</td>\n",
              "    </tr>\n",
              "    <tr>\n",
              "      <th>9573</th>\n",
              "      <td>0</td>\n",
              "      <td>0.1461</td>\n",
              "      <td>344.76</td>\n",
              "      <td>12.180755</td>\n",
              "      <td>10.39</td>\n",
              "      <td>672</td>\n",
              "      <td>10474.000000</td>\n",
              "      <td>215372</td>\n",
              "      <td>82.1</td>\n",
              "      <td>2</td>\n",
              "      <td>0</td>\n",
              "      <td>0</td>\n",
              "      <td>1</td>\n",
              "      <td>0</td>\n",
              "      <td>0</td>\n",
              "      <td>0</td>\n",
              "      <td>0</td>\n",
              "      <td>0</td>\n",
              "      <td>0</td>\n",
              "    </tr>\n",
              "    <tr>\n",
              "      <th>9574</th>\n",
              "      <td>0</td>\n",
              "      <td>0.1253</td>\n",
              "      <td>257.70</td>\n",
              "      <td>11.141862</td>\n",
              "      <td>0.21</td>\n",
              "      <td>722</td>\n",
              "      <td>4380.000000</td>\n",
              "      <td>184</td>\n",
              "      <td>1.1</td>\n",
              "      <td>5</td>\n",
              "      <td>0</td>\n",
              "      <td>0</td>\n",
              "      <td>1</td>\n",
              "      <td>0</td>\n",
              "      <td>0</td>\n",
              "      <td>0</td>\n",
              "      <td>0</td>\n",
              "      <td>0</td>\n",
              "      <td>0</td>\n",
              "    </tr>\n",
              "    <tr>\n",
              "      <th>9575</th>\n",
              "      <td>0</td>\n",
              "      <td>0.1071</td>\n",
              "      <td>97.81</td>\n",
              "      <td>10.596635</td>\n",
              "      <td>13.09</td>\n",
              "      <td>687</td>\n",
              "      <td>3450.041667</td>\n",
              "      <td>10036</td>\n",
              "      <td>82.9</td>\n",
              "      <td>8</td>\n",
              "      <td>0</td>\n",
              "      <td>0</td>\n",
              "      <td>1</td>\n",
              "      <td>0</td>\n",
              "      <td>1</td>\n",
              "      <td>0</td>\n",
              "      <td>0</td>\n",
              "      <td>0</td>\n",
              "      <td>0</td>\n",
              "    </tr>\n",
              "    <tr>\n",
              "      <th>9576</th>\n",
              "      <td>0</td>\n",
              "      <td>0.1600</td>\n",
              "      <td>351.58</td>\n",
              "      <td>10.819778</td>\n",
              "      <td>19.18</td>\n",
              "      <td>692</td>\n",
              "      <td>1800.000000</td>\n",
              "      <td>0</td>\n",
              "      <td>3.2</td>\n",
              "      <td>5</td>\n",
              "      <td>0</td>\n",
              "      <td>0</td>\n",
              "      <td>1</td>\n",
              "      <td>0</td>\n",
              "      <td>0</td>\n",
              "      <td>0</td>\n",
              "      <td>1</td>\n",
              "      <td>0</td>\n",
              "      <td>0</td>\n",
              "    </tr>\n",
              "    <tr>\n",
              "      <th>9577</th>\n",
              "      <td>0</td>\n",
              "      <td>0.1392</td>\n",
              "      <td>853.43</td>\n",
              "      <td>11.264464</td>\n",
              "      <td>16.28</td>\n",
              "      <td>732</td>\n",
              "      <td>4740.000000</td>\n",
              "      <td>37879</td>\n",
              "      <td>57.0</td>\n",
              "      <td>6</td>\n",
              "      <td>0</td>\n",
              "      <td>0</td>\n",
              "      <td>1</td>\n",
              "      <td>0</td>\n",
              "      <td>1</td>\n",
              "      <td>0</td>\n",
              "      <td>0</td>\n",
              "      <td>0</td>\n",
              "      <td>0</td>\n",
              "    </tr>\n",
              "  </tbody>\n",
              "</table>\n",
              "<p>9578 rows × 19 columns</p>\n",
              "</div>"
            ],
            "text/plain": [
              "      credit.policy  int.rate  ...  purpose_major_purchase  purpose_small_business\n",
              "0                 1    0.1189  ...                       0                       0\n",
              "1                 1    0.1071  ...                       0                       0\n",
              "2                 1    0.1357  ...                       0                       0\n",
              "3                 1    0.1008  ...                       0                       0\n",
              "4                 1    0.1426  ...                       0                       0\n",
              "...             ...       ...  ...                     ...                     ...\n",
              "9573              0    0.1461  ...                       0                       0\n",
              "9574              0    0.1253  ...                       0                       0\n",
              "9575              0    0.1071  ...                       0                       0\n",
              "9576              0    0.1600  ...                       0                       0\n",
              "9577              0    0.1392  ...                       0                       0\n",
              "\n",
              "[9578 rows x 19 columns]"
            ]
          },
          "metadata": {
            "tags": []
          },
          "execution_count": 47
        }
      ]
    },
    {
      "cell_type": "code",
      "metadata": {
        "id": "Ceo_kMdnW7Yi"
      },
      "source": [
        ""
      ],
      "execution_count": null,
      "outputs": []
    },
    {
      "cell_type": "markdown",
      "metadata": {
        "id": "Cq477LHEW7Yk"
      },
      "source": [
        "## Train Test Split\n",
        "\n",
        "Now its time to split our data into a training set and a testing set!\n",
        "\n",
        "** Use sklearn to split your data into a training set and a testing set as we've done in the past.**"
      ]
    },
    {
      "cell_type": "code",
      "metadata": {
        "id": "FRC-LB7QW7Yk"
      },
      "source": [
        "from sklearn.model_selection import train_test_split"
      ],
      "execution_count": null,
      "outputs": []
    },
    {
      "cell_type": "code",
      "metadata": {
        "id": "DPedn3ctjUVM"
      },
      "source": [
        "X = final_data.drop('not.fully.paid',axis=1)"
      ],
      "execution_count": null,
      "outputs": []
    },
    {
      "cell_type": "code",
      "metadata": {
        "id": "gABrwv_7jdt9"
      },
      "source": [
        "y = final_data['not.fully.paid']"
      ],
      "execution_count": null,
      "outputs": []
    },
    {
      "cell_type": "code",
      "metadata": {
        "id": "upzryokoW7Yo"
      },
      "source": [
        "X_train, X_test, y_train, y_test = train_test_split(X,y, test_size = 0.4, random_state = 101)"
      ],
      "execution_count": null,
      "outputs": []
    },
    {
      "cell_type": "markdown",
      "metadata": {
        "id": "OHMF6v1IW7Yq"
      },
      "source": [
        "## Training a Decision Tree Model\n",
        "\n",
        "Let's start by training a single decision tree first!\n",
        "\n",
        "** Import DecisionTreeClassifier**"
      ]
    },
    {
      "cell_type": "code",
      "metadata": {
        "id": "QWzYEJoYW7Yr"
      },
      "source": [
        "from sklearn.tree import DecisionTreeClassifier"
      ],
      "execution_count": null,
      "outputs": []
    },
    {
      "cell_type": "markdown",
      "metadata": {
        "id": "XOIdyvamW7Yt"
      },
      "source": [
        "**Create an instance of DecisionTreeClassifier() called dtree and fit it to the training data.**"
      ]
    },
    {
      "cell_type": "code",
      "metadata": {
        "id": "Td3f6Eh3W7Yt"
      },
      "source": [
        "dst = DecisionTreeClassifier()"
      ],
      "execution_count": null,
      "outputs": []
    },
    {
      "cell_type": "code",
      "metadata": {
        "id": "95pXU5EzW7Yv"
      },
      "source": [
        "loan_des = dst.fit(X_train,  y_train)"
      ],
      "execution_count": null,
      "outputs": []
    },
    {
      "cell_type": "markdown",
      "metadata": {
        "id": "TjiwP0wcW7Yw"
      },
      "source": [
        "## Predictions and Evaluation of Decision Tree\n",
        "**Create predictions from the test set and create a classification report and a confusion matrix.**"
      ]
    },
    {
      "cell_type": "code",
      "metadata": {
        "id": "sn7YsxdlW7Yx"
      },
      "source": [
        "load_pred = loan_des.predict(X_test)"
      ],
      "execution_count": null,
      "outputs": []
    },
    {
      "cell_type": "code",
      "metadata": {
        "id": "9GSv9PB7W7Yy"
      },
      "source": [
        "from sklearn.metrics import classification_report, confusion_matrix"
      ],
      "execution_count": null,
      "outputs": []
    },
    {
      "cell_type": "code",
      "metadata": {
        "id": "vMl-ObufW7Y2",
        "colab": {
          "base_uri": "https://localhost:8080/",
          "height": 51
        },
        "outputId": "17fbdea6-1bb8-47d6-ee05-36adb40514cd"
      },
      "source": [
        "print(confusion_matrix(y_test,load_pred))"
      ],
      "execution_count": null,
      "outputs": [
        {
          "output_type": "stream",
          "text": [
            "[[2682  555]\n",
            " [ 459  136]]\n"
          ],
          "name": "stdout"
        }
      ]
    },
    {
      "cell_type": "code",
      "metadata": {
        "id": "AQfd8f_iW7Y4",
        "colab": {
          "base_uri": "https://localhost:8080/",
          "height": 170
        },
        "outputId": "721e26da-cbea-4d01-9035-d727bf93f064"
      },
      "source": [
        "print(classification_report(y_test,load_pred))"
      ],
      "execution_count": null,
      "outputs": [
        {
          "output_type": "stream",
          "text": [
            "              precision    recall  f1-score   support\n",
            "\n",
            "           0       0.85      0.83      0.84      3237\n",
            "           1       0.20      0.23      0.21       595\n",
            "\n",
            "    accuracy                           0.74      3832\n",
            "   macro avg       0.53      0.53      0.53      3832\n",
            "weighted avg       0.75      0.74      0.74      3832\n",
            "\n"
          ],
          "name": "stdout"
        }
      ]
    },
    {
      "cell_type": "markdown",
      "metadata": {
        "id": "ZsS8ixe-W7Y6"
      },
      "source": [
        "## Training the Random Forest model\n",
        "\n",
        "Now its time to train our model!\n",
        "\n",
        "**Create an instance of the RandomForestClassifier class and fit it to our training data from the previous step.**"
      ]
    },
    {
      "cell_type": "code",
      "metadata": {
        "id": "DLzUndkNW7Y6"
      },
      "source": [
        "from sklearn.ensemble import RandomForestClassifier"
      ],
      "execution_count": null,
      "outputs": []
    },
    {
      "cell_type": "code",
      "metadata": {
        "id": "pJX5AFuJW7Y8"
      },
      "source": [
        "rfc = RandomForestClassifier(n_estimators=200)"
      ],
      "execution_count": null,
      "outputs": []
    },
    {
      "cell_type": "code",
      "metadata": {
        "id": "eWbrq_20W7Y9"
      },
      "source": [
        "rfc_load = rfc.fit(X_train,y_train)"
      ],
      "execution_count": null,
      "outputs": []
    },
    {
      "cell_type": "markdown",
      "metadata": {
        "id": "7YyYvrGHW7Y_"
      },
      "source": [
        "## Predictions and Evaluation\n",
        "\n",
        "Let's predict off the y_test values and evaluate our model.\n",
        "\n",
        "** Predict the class of not.fully.paid for the X_test data.**"
      ]
    },
    {
      "cell_type": "code",
      "metadata": {
        "id": "8agkA2oCW7Y_"
      },
      "source": [
        "rfc_loan_pred = rfc_load.predict(X_test)"
      ],
      "execution_count": null,
      "outputs": []
    },
    {
      "cell_type": "markdown",
      "metadata": {
        "id": "vreD2X4fW7ZB"
      },
      "source": [
        "**Now create a classification report from the results. Do you get anything strange or some sort of warning?**"
      ]
    },
    {
      "cell_type": "code",
      "metadata": {
        "id": "o9robV_cW7ZB",
        "colab": {
          "base_uri": "https://localhost:8080/",
          "height": 170
        },
        "outputId": "b26818cd-fa0a-4841-f44b-cb65c122e0a6"
      },
      "source": [
        "print(classification_report(y_test,rfc_loan_pred))"
      ],
      "execution_count": null,
      "outputs": [
        {
          "output_type": "stream",
          "text": [
            "              precision    recall  f1-score   support\n",
            "\n",
            "           0       0.85      0.99      0.92      3237\n",
            "           1       0.50      0.03      0.06       595\n",
            "\n",
            "    accuracy                           0.84      3832\n",
            "   macro avg       0.67      0.51      0.49      3832\n",
            "weighted avg       0.79      0.84      0.78      3832\n",
            "\n"
          ],
          "name": "stdout"
        }
      ]
    },
    {
      "cell_type": "code",
      "metadata": {
        "id": "WJuRHNatW7ZD",
        "outputId": "9b64a23a-8886-475d-b10c-1f62f34d55ad"
      },
      "source": [
        ""
      ],
      "execution_count": null,
      "outputs": [
        {
          "output_type": "stream",
          "text": [
            "             precision    recall  f1-score   support\n",
            "\n",
            "          0       0.85      1.00      0.92      2431\n",
            "          1       0.56      0.01      0.02       443\n",
            "\n",
            "avg / total       0.80      0.85      0.78      2874\n",
            "\n"
          ],
          "name": "stdout"
        }
      ]
    },
    {
      "cell_type": "markdown",
      "metadata": {
        "id": "JDVE_6G1W7ZE"
      },
      "source": [
        "**Show the Confusion Matrix for the predictions.**"
      ]
    },
    {
      "cell_type": "code",
      "metadata": {
        "id": "0z9_F45VW7ZF",
        "colab": {
          "base_uri": "https://localhost:8080/",
          "height": 51
        },
        "outputId": "a1a40b7c-df3b-4eec-d8c0-dfc6b158e8bd"
      },
      "source": [
        "print(confusion_matrix(y_test,rfc_loan_pred))"
      ],
      "execution_count": null,
      "outputs": [
        {
          "output_type": "stream",
          "text": [
            "[[3219   18]\n",
            " [ 577   18]]\n"
          ],
          "name": "stdout"
        }
      ]
    },
    {
      "cell_type": "markdown",
      "metadata": {
        "collapsed": true,
        "id": "tLoXX3YVW7ZH"
      },
      "source": [
        "**What performed better the random forest or the decision tree?**"
      ]
    },
    {
      "cell_type": "code",
      "metadata": {
        "id": "hVFMMsvkW7ZI"
      },
      "source": [
        ""
      ],
      "execution_count": null,
      "outputs": []
    }
  ]
}